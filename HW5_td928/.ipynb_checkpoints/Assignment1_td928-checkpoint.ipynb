{
 "cells": [
  {
   "cell_type": "code",
   "execution_count": 29,
   "metadata": {},
   "outputs": [
    {
     "name": "stdout",
     "output_type": "stream",
     "text": [
      "Populating the interactive namespace from numpy and matplotlib\n"
     ]
    }
   ],
   "source": [
    "import numpy as np\n",
    "import pylab as pl\n",
    "from scipy import stats\n",
    "\n",
    "%pylab inline"
   ]
  },
  {
   "cell_type": "code",
   "execution_count": 30,
   "metadata": {},
   "outputs": [
    {
     "data": {
      "image/png": "[encoded data removed]",
      "text/plain": [
       "<matplotlib.figure.Figure at 0x112b1c310>"
      ]
     },
     "metadata": {},
     "output_type": "display_data"
    }
   ],
   "source": [
    "np.random.seed(999)\n",
    "\n",
    "# define some parameters for the experiment\n",
    "n = 1000\n",
    "N = 1000\n",
    "dist_mean = 100.\n",
    "dist_std = dist_mean\n",
    "\n",
    "# create a list for the sample means \n",
    "sample_mean = []\n",
    "\n",
    "for i in range(N):\n",
    "    blah = np.random.exponential(scale=dist_mean,size=n)\n",
    "    sample_mean.append(blah.mean())\n",
    "    if i == 0:\n",
    "        pl.hist(blah)\n",
    "        pl.title('Sample Distribution')\n",
    "        pl.xlabel('Values of Samples')\n",
    "        pl.ylabel('Frequency')"
   ]
  },
  {
   "cell_type": "markdown",
   "metadata": {},
   "source": [
    "_Figure 1.1_ this plot shows an example of what sample distribution looks like for the exponential distribution."
   ]
  },
  {
   "cell_type": "code",
   "execution_count": 31,
   "metadata": {},
   "outputs": [
    {
     "data": {
      "text/plain": [
       "<matplotlib.text.Text at 0x112e063d0>"
      ]
     },
     "execution_count": 31,
     "metadata": {},
     "output_type": "execute_result"
    },
    {
     "data": {
      "image/png": "[encoded data removed]",
      "text/plain": [
       "<matplotlib.figure.Figure at 0x112bbd7d0>"
      ]
     },
     "metadata": {},
     "output_type": "display_data"
    }
   ],
   "source": [
    "# plot the distribution for z-statistics\n",
    "z_stats = [((i - dist_mean) * np.sqrt(N) / dist_std) for i in sample_mean]\n",
    "pl.hist(z_stats)\n",
    "pl.title('Z-statistics Distribution')\n",
    "pl.xlabel('Z-statistics')\n",
    "pl.ylabel('Frequency')"
   ]
  },
  {
   "cell_type": "markdown",
   "metadata": {},
   "source": [
    "_Figure 1.2_ this plots shows the distribution of z-statistics of the means for one hundred samples which each sample is consisted of fifty values generated from the exponential distributions. "
   ]
  },
  {
   "cell_type": "code",
   "execution_count": 32,
   "metadata": {},
   "outputs": [
    {
     "data": {
      "text/plain": [
       "KstestResult(statistic=0.032624880098587217, pvalue=0.23284006695120407)"
      ]
     },
     "execution_count": 32,
     "metadata": {},
     "output_type": "execute_result"
    }
   ],
   "source": [
    "# test the goodness of fit with AD test\n",
    "\n",
    "stats.anderson(z_stats,dist='norm')\n",
    "stats.kstest(z_stats,'norm')"
   ]
  },
  {
   "cell_type": "markdown",
   "metadata": {
    "collapsed": true
   },
   "source": [
    "Conclusion:\n",
    "\n",
    "Then based upon the null-hypothesis of the KS test. The p-value is not significant enough to reject the distribution to be identical to normal distribution."
   ]
  }
 ],
 "metadata": {
  "kernelspec": {
   "display_name": "Python 2",
   "language": "python",
   "name": "python2"
  },
  "language_info": {
   "codemirror_mode": {
    "name": "ipython",
    "version": 2
   },
   "file_extension": ".py",
   "mimetype": "text/x-python",
   "name": "python",
   "nbconvert_exporter": "python",
   "pygments_lexer": "ipython2",
   "version": "2.7.13"
  }
 },
 "nbformat": 4,
 "nbformat_minor": 2
}
